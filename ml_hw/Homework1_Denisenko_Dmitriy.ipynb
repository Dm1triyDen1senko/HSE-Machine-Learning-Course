{
 "cells": [
  {
   "cell_type": "markdown",
   "metadata": {
    "id": "JQjq1AU49Q-q"
   },
   "source": [
    "# Домашнее задание №1: линейная регрессия (максимум 10 баллов)\n",
    "\n",
    "Некоторые задания будут по вариантам (всего 4 варианта). Чтобы выяснить свой вариант, посчитайте количество букв в своей фамилии, возьмете остаток от деления на 4 и прибавьте 1."
   ]
  },
  {
   "cell_type": "code",
   "execution_count": 6,
   "metadata": {
    "id": "1FsuljEb9Q-w"
   },
   "outputs": [],
   "source": [
    "# Вариант 2\n",
    "\n",
    "import numpy as np\n",
    "import matplotlib.pyplot as plt"
   ]
  },
  {
   "cell_type": "markdown",
   "metadata": {
    "id": "ChBks_AF9Q-y"
   },
   "source": [
    "## Многомерная линейная регрессия из sklearn"
   ]
  },
  {
   "cell_type": "markdown",
   "metadata": {
    "id": "jihDOyOd9Q-0"
   },
   "source": [
    "Создадим набор данных для многомерной регрессии"
   ]
  },
  {
   "cell_type": "code",
   "execution_count": 3,
   "metadata": {
    "id": "ykkouQff9Q-2",
    "outputId": "8223f891-c775-432e-c125-53bff94c60c6"
   },
   "outputs": [
    {
     "name": "stdout",
     "output_type": "stream",
     "text": [
      "(10000, 100) (10000,)\n"
     ]
    }
   ],
   "source": [
    "from sklearn.datasets import make_regression\n",
    "\n",
    "X, y = make_regression(n_samples = 10000)\n",
    "print(X.shape, y.shape)"
   ]
  },
  {
   "cell_type": "markdown",
   "metadata": {
    "id": "PMZP4pwT9Q-3"
   },
   "source": [
    "У нас 10000 объектов и 100 признаков. Для начала решим задачу аналитически \"из коробки\"."
   ]
  },
  {
   "cell_type": "code",
   "execution_count": 4,
   "metadata": {
    "id": "a-cl2ujU9Q-4",
    "outputId": "dc936815-cd0a-4c42-bc79-824337410051"
   },
   "outputs": [
    {
     "name": "stdout",
     "output_type": "stream",
     "text": [
      "1.8458987118156722e-25\n"
     ]
    }
   ],
   "source": [
    "from sklearn.linear_model import LinearRegression\n",
    "from sklearn.metrics import mean_squared_error\n",
    "\n",
    "reg = LinearRegression().fit(X, y)\n",
    "print(mean_squared_error(y, reg.predict(X)))"
   ]
  },
  {
   "cell_type": "markdown",
   "metadata": {
    "id": "8IKaW67f9Q-6"
   },
   "source": [
    "Теперь попробуем обучить линейную регрессию методом градиентного спуска \"из коробки\""
   ]
  },
  {
   "cell_type": "code",
   "execution_count": null,
   "metadata": {
    "id": "Fzw6etrW9Q-7",
    "outputId": "9a1effb5-b3d9-47cc-bd8b-c696505c8521"
   },
   "outputs": [
    {
     "name": "stdout",
     "output_type": "stream",
     "text": [
      "4.930033651729786e-12\n"
     ]
    },
    {
     "data": {
      "text/plain": [
       "array([-1.40519140e-08,  5.79857012e-08, -6.71754502e-09,  5.37196565e-08,\n",
       "       -4.23757401e-08,  3.15550399e-08,  2.05143147e-08,  2.43603302e-08,\n",
       "       -1.83651435e-08,  1.08013656e-08,  4.09452086e-10,  3.37285401e-08,\n",
       "        1.35102227e-08,  1.01480658e-08, -2.43482053e-08,  6.40744926e-09,\n",
       "        3.06382456e-08,  3.86017978e-08,  3.41564997e+01, -5.18518032e-08,\n",
       "        1.38851391e-08, -1.42306529e-08,  4.25270696e-08, -4.06081084e-08,\n",
       "       -2.59950367e-08, -2.74756585e-08,  4.99694106e-08,  2.77403421e-08,\n",
       "        8.67942327e+01, -5.09177475e-08,  4.93540495e-08,  2.75812943e-08,\n",
       "        2.61001097e-08,  1.82849413e-08,  3.40308818e-08,  5.20034871e-10,\n",
       "       -1.94357651e-09, -3.78890156e-08,  8.64190655e-09, -4.20037313e-08,\n",
       "       -1.60387918e-08, -7.31952433e-08, -6.50953752e-09, -5.59987250e-08,\n",
       "        7.78720755e-09,  3.09553018e-08, -5.26316915e-08,  5.29849158e+01,\n",
       "       -9.07206447e-09,  3.17915348e-08, -3.52596728e-08, -4.22117966e-08,\n",
       "       -3.71200144e-09, -1.33375627e-08,  2.48144069e-08,  8.83753906e-08,\n",
       "        5.21018643e+01,  4.05139803e+01, -6.79248688e-09, -6.93977011e-09,\n",
       "        1.13397490e-07,  8.32959174e+01,  3.97532950e-08,  3.40333690e-08,\n",
       "        2.68425361e-08, -3.69139684e-08,  1.93461017e-08, -2.99161281e-08,\n",
       "       -1.93760907e-08,  1.80698702e-08,  3.73084167e-08,  3.98997945e-08,\n",
       "       -4.92619669e-08,  1.80250950e-08, -3.25521206e-08,  1.32063811e-08,\n",
       "       -1.99410325e-08,  4.79908863e-08,  8.44072724e+01, -2.95896864e-08,\n",
       "       -3.73765541e-08, -7.06814395e-08, -6.68993730e-08, -3.67780340e-08,\n",
       "       -6.69253517e-09,  4.25826324e-09, -9.47838344e-09,  9.26399696e-08,\n",
       "        6.11862212e-08,  7.77735924e+01, -1.59354957e-08, -6.87873372e-08,\n",
       "        2.80920200e-08,  9.56445063e+01, -3.26422128e-08,  5.52248387e+00,\n",
       "        9.73900103e-09,  9.42348033e-09, -3.18152278e-08,  1.45575003e-08])"
      ]
     },
     "execution_count": 26,
     "metadata": {},
     "output_type": "execute_result"
    }
   ],
   "source": [
    "from sklearn.linear_model import SGDRegressor\n",
    "reg = SGDRegressor(alpha=0.00000001).fit(X, y)\n",
    "print(mean_squared_error(y, reg.predict(X)))\n",
    "reg.coef_"
   ]
  },
  {
   "cell_type": "markdown",
   "metadata": {
    "id": "oq1076z-9Q-8"
   },
   "source": [
    "***Задание 1 (1 балл).*** Объясните, чем вызвана разница в значениях двух полученных значений метрики?\n",
    "\n",
    "**Ответ**: Разница в MSE может быть вызвана тем, что обучение модели с помощью LinearRegression и SGDRegression происходит разными способами. В LinearRegression используется МНК, а в SGDRegression используется метод стохастического градиентного спуска. Также свою роль игроает и число итераций - Если в SGDRegressor задано недостаточное количество итераций (например, max_iter), то модель может не успеть достаточно адаптироваться к данным, что также приведет к высокому MSE.\n",
    "\n",
    "***Задание 2 (1 балл).*** Подберите гиперпараметры в методе градиентного спуска так, чтобы значение MSE было близко к значению MSE, полученному при обучении LinearRegression."
   ]
  },
  {
   "cell_type": "code",
   "execution_count": 5,
   "metadata": {},
   "outputs": [
    {
     "name": "stdout",
     "output_type": "stream",
     "text": [
      "Лучшие гиперпараметры: alpha=1e-10, learning_rate=invscaling, MSE=2.6119082972777367e-16\n"
     ]
    }
   ],
   "source": [
    "# Задание 2\n",
    "\n",
    "mse_values = []\n",
    "\n",
    "# Перебираем различные значения alpha и learning_rate\n",
    "for alpha in [1e-10, 1e-9, 1e-8]:\n",
    "    for learning_rate in ['constant', 'optimal', 'invscaling']:\n",
    "        # Создаем регрессор с текущими гиперпараметрами\n",
    "        reg = SGDRegressor(alpha=alpha, learning_rate=learning_rate, max_iter=10000, tol=1e-3)\n",
    "        reg.fit(X, y)\n",
    "        \n",
    "        # Предсказание и вычисление MSE\n",
    "        mse = mean_squared_error(y, reg.predict(X))\n",
    "        mse_values.append((alpha, learning_rate, mse))\n",
    "\n",
    "# Находим гиперпараметры, которые дают наименьшее значение MSE\n",
    "best_params = min(mse_values, key=lambda x: x[2])\n",
    "print(f\"Лучшие гиперпараметры: alpha={best_params[0]}, learning_rate={best_params[1]}, MSE={best_params[2]}\")"
   ]
  },
  {
   "cell_type": "markdown",
   "metadata": {
    "id": "3jJplHqS9Q-9"
   },
   "source": [
    "## Ваша многомерная линейная регрессия"
   ]
  },
  {
   "cell_type": "markdown",
   "metadata": {
    "id": "SKeXXhEH9Q--"
   },
   "source": [
    "***Задание 3 (5 баллов)***. Напишите собственную многомерную линейную регрессию, оптимизирующую MSE методом *градиентного спуска*. Для этого используйте шаблонный класс.\n",
    "\n",
    "Критерий останова: либо норма разности весов на текущей и предыдущей итерациях меньше определенного значения (первый и третий варианты), либо модуль разности функционалов качества (MSE) на текущей и предыдущей итерациях меньше определенного значения (второй и четвертый варианты). Также предлагается завершать обучение в любом случае, если было произведено слишком много итераций.\n",
    "\n",
    "***Задание 4 (2 балла)***. Добавьте l1 (первый и четвертый варианты) или l2 (второй и третий варианты) регуляризацию."
   ]
  },
  {
   "cell_type": "code",
   "execution_count": 19,
   "metadata": {
    "id": "VY3CTs0W9Q-_"
   },
   "outputs": [],
   "source": [
    "# Описание класса модели линейной регрессии (Задание 3)\n",
    "\n",
    "class LinearRegression(object):\n",
    "    def __init__(self, alpha=0.0001, l_ratio=0.001, tol=0.001, max_iter=1000):\n",
    "        '''\n",
    "        Для начала необходимо инициализировать параметры\n",
    "        alpha - это learning rate или шаг обучения\n",
    "        l_ratio - параметр регуляризации\n",
    "        tol - значение для критерия останова\n",
    "        max_iter - максимальное количество итераций обучения\n",
    "        '''\n",
    "        self.alpha = alpha\n",
    "        self.l_ratio = l_ratio\n",
    "        self.tol = tol\n",
    "        self.max_iter = max_iter\n",
    "        self.weights = None\n",
    "\n",
    "    def fit(self, X, y):\n",
    "        '''\n",
    "        Метод для обучения линейной регрессии\n",
    "        X - матрица признаков\n",
    "        y - вектор правильных ответов\n",
    "        '''\n",
    "        n_samples, n_features = X.shape\n",
    "        self.weights = np.zeros(n_features)\n",
    "        previous_mse = float('inf')\n",
    "        \n",
    "        for iteration in range(self.max_iter):\n",
    "            y_pred = np.dot(X, self.weights)\n",
    "            error = y_pred - y\n",
    "            gradient = (1/n_samples) * np.dot(X.T, error) + self.l_ratio * self.weights\n",
    "            new_weights = self.weights - self.alpha * gradient\n",
    "            mse = np.mean((y_pred - y) ** 2)\n",
    "            \n",
    "            if abs(mse - previous_mse) < self.tol:\n",
    "                print(f\"Критерий остановы был удовлетворен на итерации: {iteration}. Изменение MSE ниже уровня {self.tol}.\")\n",
    "                break\n",
    "            \n",
    "            self.weights = new_weights\n",
    "            previous_mse = mse\n",
    "            \n",
    "        else:\n",
    "            print(f\"Достигнуто максимальное кол-во итераций: {self.max_iter}.\")\n",
    "            \n",
    "\n",
    "    def predict(self, X):\n",
    "        '''\n",
    "        Метод для предсказаний линейной регрессии\n",
    "        X - матрица признаков\n",
    "        '''\n",
    "        if self.weights is None:\n",
    "            raise Exception(\"Модель еще не обучена, воспользуйтесь методом 'fit()'\")\n",
    "    \n",
    "        return np.dot(X, self.weights)"
   ]
  },
  {
   "cell_type": "code",
   "execution_count": 21,
   "metadata": {},
   "outputs": [
    {
     "name": "stdout",
     "output_type": "stream",
     "text": [
      "Критерий остановы был удовлетворен на итерации: 711. Изменение MSE ниже уровня 0.001.\n"
     ]
    },
    {
     "data": {
      "image/png": "[encoded data removed]",
      "text/plain": [
       "<Figure size 640x480 with 1 Axes>"
      ]
     },
     "metadata": {},
     "output_type": "display_data"
    }
   ],
   "source": [
    "# Демонстрация работы модели на синтетических данных\n",
    "\n",
    "# Генерация синтетических данных\n",
    "X, y = make_regression(n_samples=100, n_features=1, noise=10, random_state=42)\n",
    "\n",
    "# Инициализация и обучение модели\n",
    "model = LinearRegression(alpha=0.01, l_ratio=0.01, tol=0.001, max_iter=10000)\n",
    "model.fit(X, y)\n",
    "\n",
    "# Предсказание\n",
    "predictions = model.predict(X)\n",
    "\n",
    "# Визуализация результатов\n",
    "plt.scatter(X, y, color='blue', label='Actual data')\n",
    "plt.plot(X, predictions, color='red', label='Fitted line')\n",
    "plt.legend()\n",
    "plt.show()"
   ]
  },
  {
   "cell_type": "code",
   "execution_count": 25,
   "metadata": {},
   "outputs": [],
   "source": [
    "# Задание 4 - Добавление L2-регуляризации\n",
    "\n",
    "class CustomRidgeRegression(object):\n",
    "    def __init__(self, alpha=0.0001, l_ratio=0.001, tol=0.001, max_iter=1000):\n",
    "        '''\n",
    "        Инициализация параметров модели.\n",
    "        alpha - шаг обучения\n",
    "        l_ratio - параметр регуляризации (L2)\n",
    "        tol - значение для критерия останова\n",
    "        max_iter - максимальное количество итераций обучения\n",
    "        '''\n",
    "        self.alpha = alpha\n",
    "        self.l_ratio = l_ratio\n",
    "        self.tol = tol\n",
    "        self.max_iter = max_iter\n",
    "        self.weights = None\n",
    "\n",
    "    def fit(self, X, y):\n",
    "        '''\n",
    "        Метод для обучения линейной регрессии.\n",
    "        X - матрица признаков\n",
    "        y - вектор правильных ответов\n",
    "        '''\n",
    "        n_samples, n_features = X.shape\n",
    "        self.weights = np.zeros(n_features)\n",
    "        previous_mse = float('inf')\n",
    "        \n",
    "        for iteration in range(self.max_iter):\n",
    "            y_pred = np.dot(X, self.weights)\n",
    "            error = y_pred - y\n",
    "            \n",
    "            # Вычисление градиента с L2-регуляризацией\n",
    "            gradient = (1/n_samples) * np.dot(X.T, error) + (self.l_ratio / n_samples) * self.weights\n",
    "            \n",
    "            new_weights = self.weights - self.alpha * gradient\n",
    "            mse = np.mean((y_pred - y) ** 2) + (self.l_ratio / (2 * n_samples)) * np.sum(self.weights ** 2)  # Функция потерь с L2-регуляризацией\n",
    "            \n",
    "            if abs(mse - previous_mse) < self.tol:\n",
    "                print(f\"Критерий остановы был удовлетворен на итерации: {iteration}. Изменение MSE ниже уровня {self.tol}.\")\n",
    "                break\n",
    "            \n",
    "            self.weights = new_weights\n",
    "            previous_mse = mse\n",
    "            \n",
    "        else:\n",
    "            print(f\"Достигнуто максимальное кол-во итераций: {self.max_iter}.\")\n",
    "\n",
    "    def predict(self, X):\n",
    "        '''\n",
    "        Метод для предсказаний линейной регрессии.\n",
    "        X - матрица признаков\n",
    "        '''\n",
    "        if self.weights is None:\n",
    "            raise Exception(\"Модель еще не обучена, воспользуйтесь методом 'fit()'\")\n",
    "    \n",
    "        return np.dot(X, self.weights)"
   ]
  },
  {
   "cell_type": "code",
   "execution_count": 26,
   "metadata": {},
   "outputs": [
    {
     "name": "stdout",
     "output_type": "stream",
     "text": [
      "Критерий остановы был удовлетворен на итерации: 616. Изменение MSE ниже уровня 0.001.\n"
     ]
    },
    {
     "data": {
      "image/png": "[encoded data removed]",
      "text/plain": [
       "<Figure size 640x480 with 1 Axes>"
      ]
     },
     "metadata": {},
     "output_type": "display_data"
    }
   ],
   "source": [
    "# Демонстрация работы модели на синтетических данных - теперь с L2-регуляризацией\n",
    "\n",
    "# Генерация синтетических данных\n",
    "X, y = make_regression(n_samples=100, n_features=1, noise=10, random_state=42)\n",
    "\n",
    "# Инициализация и обучение модели\n",
    "model = CustomRidgeRegression(alpha=0.01, l_ratio=0.01, tol=0.001, max_iter=1000)\n",
    "model.fit(X, y)\n",
    "\n",
    "# Предсказание\n",
    "predictions = model.predict(X)\n",
    "\n",
    "# Визуализация результатов\n",
    "plt.scatter(X, y, color='blue', label='Actual data')\n",
    "plt.plot(X, predictions, color='red', label='Fitted line')\n",
    "plt.legend()\n",
    "plt.show()"
   ]
  },
  {
   "cell_type": "markdown",
   "metadata": {
    "id": "uBRR_3Sh9Q_A"
   },
   "source": [
    "***Задание 5 (1 балл)***. Обучите линейную регрессию из коробки с l1-регуляризацией (from sklearn.linear_model import Lasso, первый и четвертый варианты) или с l2-регуляризацией (from sklearn.linear_model import Ridge, второй и третий варианты) с значением параметра регуляризации 0.1. Обучите вашу линейную регрессию с тем же значением параметра регуляризации и сравните результаты. Сделайте выводы."
   ]
  },
  {
   "cell_type": "code",
   "execution_count": 28,
   "metadata": {
    "id": "LrSPmUZl9Q_B"
   },
   "outputs": [
    {
     "name": "stdout",
     "output_type": "stream",
     "text": [
      "Ridge (sklearn) MSE: 78.0567\n",
      "Custom L2 Regression MSE: 79.4727\n"
     ]
    },
    {
     "data": {
      "image/png": "[encoded data removed]",
      "text/plain": [
       "<Figure size 640x480 with 1 Axes>"
      ]
     },
     "metadata": {},
     "output_type": "display_data"
    }
   ],
   "source": [
    "# Задание 5\n",
    "\n",
    "from sklearn.linear_model import Ridge\n",
    "\n",
    "# Генерация синтетических данных\n",
    "X, y = make_regression(n_samples=100, n_features=1, noise=10, random_state=42)\n",
    "\n",
    "# Обучение модели с L2-регуляризацией (Ridge) из scikit-learn\n",
    "ridge_model = Ridge(alpha=0.1)\n",
    "ridge_model.fit(X, y)\n",
    "ridge_predictions = ridge_model.predict(X)\n",
    "ridge_mse = mean_squared_error(y, ridge_predictions)\n",
    "\n",
    "# Обучение кастомной модели (описана в предыдущем задании) с L2-регуляризацией\n",
    "custom_model = CustomRidgeRegression(alpha=0.01, l_ratio=0.1)\n",
    "custom_model.fit(X, y)\n",
    "custom_predictions = custom_model.predict(X)\n",
    "custom_mse = mean_squared_error(y, custom_predictions)\n",
    "\n",
    "print(f\"Ridge (sklearn) MSE: {ridge_mse:.4f}\")\n",
    "print(f\"Custom L2 Regression MSE: {custom_mse:.4f}\")\n",
    "\n",
    "plt.scatter(X, y, color='blue', label='Actual data')\n",
    "plt.plot(X, ridge_predictions, color='red', label='Ridge Fitted line (sklearn)', linestyle='--')\n",
    "plt.plot(X, custom_predictions, color='green', label='Custom Fitted line', linestyle='-')\n",
    "plt.legend()\n",
    "plt.title('Сравнение Ridge и Кастомной модели регрессии')\n",
    "plt.show()"
   ]
  },
  {
   "cell_type": "markdown",
   "metadata": {},
   "source": [
    "**Выводы:**\n",
    "\n",
    "Значения MSE для обеих моделей близки, что указывает на то, что моя кастомная реализация линейной регрессии с L2-регуляризацией функционирует корректно и может эффективно обучаться на данных.\n",
    "\n",
    "Модель Ridge, реализованная в scikit-learn, показала немного лучшее значение MSE, чем кастомная модель. Это может свидетельствовать о том, что стандартная реализация использует более оптимизированные методы и настройки по умолчанию, что делает её более эффективной (так и должно быть, библиотека scikit-learn все-таки сделана умными людьми)."
   ]
  }
 ],
 "metadata": {
  "colab": {
   "provenance": []
  },
  "kernelspec": {
   "display_name": "Python 3 (ipykernel)",
   "language": "python",
   "name": "python3"
  },
  "language_info": {
   "codemirror_mode": {
    "name": "ipython",
    "version": 3
   },
   "file_extension": ".py",
   "mimetype": "text/x-python",
   "name": "python",
   "nbconvert_exporter": "python",
   "pygments_lexer": "ipython3",
   "version": "3.10.9"
  }
 },
 "nbformat": 4,
 "nbformat_minor": 1
}
